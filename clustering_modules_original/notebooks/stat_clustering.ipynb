{
 "cells": [
  {
   "cell_type": "code",
   "execution_count": 2,
   "metadata": {},
   "outputs": [],
   "source": [
    "from scipy.sparse import lil_matrix\n",
    "import pickle\n",
    "from sklearn.cluster import AgglomerativeClustering\n",
    "import numpy as np"
   ]
  },
  {
   "cell_type": "code",
   "execution_count": 5,
   "metadata": {},
   "outputs": [
    {
     "data": {
      "text/plain": [
       "{'ACPS_c6',\n",
       " 'AMP-binding_c30;AMP-binding_C_c39',\n",
       " 'Chorismate_bind_c14',\n",
       " 'Isochorismatase_c20;PP-binding_c39'}"
      ]
     },
     "execution_count": 5,
     "metadata": {},
     "output_type": "execute_result"
    }
   ],
   "source": [
    "def load_stat_subclusters(stat_subclusters_file_path):\n",
    "    stat_subclusters = list()\n",
    "    with open(stat_subclusters_file_path, 'r') as infile:\n",
    "        infile.readline() # skip header\n",
    "        for line in infile:\n",
    "            subcluster = set(line.split(\"\\t\")[5].split(\",\"))\n",
    "            stat_subclusters.append(subcluster)\n",
    "    return stat_subclusters\n",
    "\n",
    "\n",
    "stat_subclusters_file_path = \"../data/PRESTO-STAT_subclusters.txt\"\n",
    "stat_subclusters = load_stat_subclusters(stat_subclusters_file_path)\n",
    "\n",
    "stat_subclusters[0]"
   ]
  },
  {
   "cell_type": "code",
   "execution_count": null,
   "metadata": {},
   "outputs": [],
   "source": [
    "def jaccard_similarity(list1, list2):\n",
    "    intersection = len(set(list1) & set(list2))\n",
    "    union = len(set(list1) | set(list2))\n",
    "    return intersection / union\n",
    "\n",
    "# Build a similarity matrix\n",
    "n = len(stat_subclusters)\n",
    "similarity_matrix = lil_matrix((n, n))\n",
    "\n",
    "for i in range(n):\n",
    "    for j in range(n):\n",
    "        similarity_matrix[i, j] = jaccard_similarity(stat_subclusters[i], stat_subclusters[j])\n",
    "\n",
    "with open('similarity_matrix.pkl', 'wb') as f:\n",
    "    pickle.dump(similarity_matrix, f)"
   ]
  },
  {
   "cell_type": "code",
   "execution_count": null,
   "metadata": {},
   "outputs": [],
   "source": [
    "with open(\"../results/similarity_matrix.pkl\", \"rb\") as f:\n",
    "    similarity_matrix = pickle.load(f)\n",
    "\n",
    "# Convert to distance matrix for clustering\n",
    "distance_matrix = 1 - similarity_matrix.toarray()\n",
    "\n",
    "del similarity_matrix\n",
    "\n",
    "with open(\"../results/distance_matrix.pkl\", \"wb\") as f:\n",
    "    pickle.dump(distance_matrix, f)"
   ]
  },
  {
   "cell_type": "code",
   "execution_count": null,
   "metadata": {},
   "outputs": [],
   "source": [
    "with open(\"../results/distance_matrix.pkl\", \"rb\") as f:\n",
    "    distance_matrix = pickle.load(f)\n",
    "\n",
    "# Apply clustering\n",
    "cluster_model = AgglomerativeClustering(metric='precomputed', linkage='average')\n",
    "labels = cluster_model.fit_predict(distance_matrix)"
   ]
  }
 ],
 "metadata": {
  "kernelspec": {
   "display_name": "stat_clustering",
   "language": "python",
   "name": "python3"
  },
  "language_info": {
   "codemirror_mode": {
    "name": "ipython",
    "version": 3
   },
   "file_extension": ".py",
   "mimetype": "text/x-python",
   "name": "python",
   "nbconvert_exporter": "python",
   "pygments_lexer": "ipython3",
   "version": "3.13.0"
  }
 },
 "nbformat": 4,
 "nbformat_minor": 2
}
